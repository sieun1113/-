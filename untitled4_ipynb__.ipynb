{
  "nbformat": 4,
  "nbformat_minor": 0,
  "metadata": {
    "colab": {
      "provenance": [],
      "authorship_tag": "ABX9TyMdLkvPSJJHvgLiHoSXOSjC",
      "include_colab_link": true
    },
    "kernelspec": {
      "name": "python3",
      "display_name": "Python 3"
    },
    "language_info": {
      "name": "python"
    }
  },
  "cells": [
    {
      "cell_type": "markdown",
      "metadata": {
        "id": "view-in-github",
        "colab_type": "text"
      },
      "source": [
        "<a href=\"https://colab.research.google.com/github/sieun1113/-/blob/main/untitled4_ipynb__.ipynb\" target=\"_parent\"><img src=\"https://colab.research.google.com/assets/colab-badge.svg\" alt=\"Open In Colab\"/></a>"
      ]
    },
    {
      "cell_type": "code",
      "source": [
        "!git clone https://github.com/sieun1113/-"
      ],
      "metadata": {
        "colab": {
          "base_uri": "https://localhost:8080/"
        },
        "id": "Uw1AA3e0ts0l",
        "outputId": "0d708fb0-441e-4254-c4ba-313fc05fbaeb"
      },
      "execution_count": null,
      "outputs": [
        {
          "output_type": "stream",
          "name": "stdout",
          "text": [
            "fatal: destination path '-' already exists and is not an empty directory.\n"
          ]
        }
      ]
    },
    {
      "cell_type": "code",
      "execution_count": null,
      "metadata": {
        "colab": {
          "base_uri": "https://localhost:8080/"
        },
        "id": "ApbEU9tTPzkS",
        "outputId": "790fdf75-987f-4d0a-ba0b-beed4683949c"
      },
      "outputs": [
        {
          "output_type": "stream",
          "name": "stdout",
          "text": [
            "Full set of data points for Gaussian data:\n",
            "    시간(단위:분)\n",
            "0   2.992066\n",
            "1   2.081693\n",
            "2   4.091788\n",
            "3   1.302173\n",
            "4   3.289332\n",
            "5   1.904027\n",
            "6   2.672503\n",
            "7   4.451554\n",
            "8   3.930782\n",
            "9   2.915665\n",
            "10  1.950707\n",
            "11  2.895962\n",
            "12  3.475863\n",
            "13  2.922461\n",
            "14  2.379545\n",
            "15  4.212320\n",
            "16  3.880393\n",
            "17  3.261052\n",
            "18  5.261556\n",
            "19  2.874916\n",
            "20  4.004339\n",
            "21  3.692731\n",
            "22  5.603207\n",
            "23  2.112485\n",
            "24  2.909365\n",
            "25  3.417423\n",
            "26  2.869399\n",
            "27  2.120394\n",
            "28  2.667451\n",
            "29  2.735255\n",
            "30  3.259663\n",
            "31  2.435541\n",
            "32  3.726287\n",
            "33  3.268679\n",
            "34  2.402450\n",
            "35  2.637889\n",
            "36  1.634393\n",
            "37  3.110839\n",
            "38  2.449973\n",
            "39  3.445124\n",
            "\n",
            "\n",
            "Shapiro-Wilk Test Statistic: 0.971\n",
            "p-value: 0.3767490617395297\n",
            "Sample looks Gaussian (fail to reject H0)\n"
          ]
        }
      ],
      "source": [
        "import numpy as np\n",
        "import pandas as pd\n",
        "import seaborn as sns\n",
        "from scipy.stats import shapiro\n",
        "\n",
        "data1_gaussian = np.random.normal(loc=3, scale=1, size=40)\n",
        "df1 = pd.DataFrame(data1_gaussian, columns=['시간(단위:분)'])\n",
        "df1.to_csv('gender_time.csv', index=True)\n",
        "print('Full set of data points for Gaussian data:')\n",
        "print(df1)\n",
        "print('\\n')\n",
        "\n",
        "\n",
        "statistic, p_value = shapiro(data1_gaussian)\n",
        "statistic = round(statistic, 3)\n",
        "\n",
        "print(\"Shapiro-Wilk Test Statistic:\", statistic)\n",
        "print(\"p-value:\", p_value)\n",
        "\n",
        "alpha = 0.05\n",
        "if p_value > alpha:\n",
        "    print(\"Sample looks Gaussian (fail to reject H0)\")\n",
        "else:\n",
        "    print(\"Sample does not look Gaussian (reject H0)\")"
      ]
    },
    {
      "cell_type": "code",
      "source": [
        "import pandas as pd\n",
        "from scipy.stats import ttest_ind\n",
        "\n",
        "data = pd.read_csv('/content/Gender.csv')\n",
        "\n",
        "group_female = data[data['Gender'] == '여성']['시간(단위:분)']\n",
        "group_male = data[data['Gender'] == '남성']['시간(단위:분)']\n",
        "\n",
        "t_statistic, p_value = ttest_ind(group_female, group_male)\n",
        "\n",
        "print(\"귀무가설(H0): 남성과 여성의 평균 준비시간에는 차이가 없다.\")\n",
        "print(f\"t-statistic: t_statistic\")\n",
        "print(f\"p-value: p_value\")\n",
        "\n",
        "alpha = 0.05\n",
        "if p_value < alpha:\n",
        "    print(\"해석: 두 그룹 간 평균 준비시간에 차이가 있다. (귀무가설 기각, p < 0.05)\")\n",
        "else:\n",
        "    print(\"해석: 두 그룹 간 평균 준비시간에 차이가 없다. (귀무가설 채택, p ≥ 0.05)\")\n"
      ],
      "metadata": {
        "colab": {
          "base_uri": "https://localhost:8080/"
        },
        "id": "-FpL1FarfBLU",
        "outputId": "2c5c965e-724a-4e6d-f39e-7fcd31c9d8cd"
      },
      "execution_count": null,
      "outputs": [
        {
          "output_type": "stream",
          "name": "stdout",
          "text": [
            "귀무가설(H0): 남성과 여성의 평균 준비시간에는 차이가 없다.\n",
            "t-statistic: t_statistic\n",
            "p-value: p_value\n",
            "해석: 두 그룹 간 평균 준비시간에 차이가 있다. (귀무가설 기각, p < 0.05)\n"
          ]
        }
      ]
    },
    {
      "cell_type": "code",
      "source": [],
      "metadata": {
        "id": "pOpJVrKOhLfd"
      },
      "execution_count": null,
      "outputs": []
    }
  ]
}