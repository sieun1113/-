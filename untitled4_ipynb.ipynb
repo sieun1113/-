{
  "nbformat": 4,
  "nbformat_minor": 0,
  "metadata": {
    "colab": {
      "provenance": [],
      "authorship_tag": "ABX9TyPOIGKKfZqOT4hLVAcPzNfk",
      "include_colab_link": true
    },
    "kernelspec": {
      "name": "python3",
      "display_name": "Python 3"
    },
    "language_info": {
      "name": "python"
    }
  },
  "cells": [
    {
      "cell_type": "markdown",
      "metadata": {
        "id": "view-in-github",
        "colab_type": "text"
      },
      "source": [
        "<a href=\"https://colab.research.google.com/github/sieun1113/-/blob/main/untitled4_ipynb.ipynb\" target=\"_parent\"><img src=\"https://colab.research.google.com/assets/colab-badge.svg\" alt=\"Open In Colab\"/></a>"
      ]
    },
    {
      "cell_type": "code",
      "execution_count": null,
      "metadata": {
        "colab": {
          "base_uri": "https://localhost:8080/"
        },
        "id": "ApbEU9tTPzkS",
        "outputId": "f96a736f-4126-460c-a769-74a455af5c7f"
      },
      "outputs": [
        {
          "output_type": "stream",
          "name": "stdout",
          "text": [
            "Full set of data points for Gaussian data:\n",
            "    시간(단위:분)\n",
            "0   2.630611\n",
            "1   3.371542\n",
            "2   2.358813\n",
            "3   4.820281\n",
            "4   2.568633\n",
            "5   1.396633\n",
            "6   3.076318\n",
            "7   2.085795\n",
            "8   3.324577\n",
            "9   3.549655\n",
            "10  4.543902\n",
            "11  4.485268\n",
            "12  4.202121\n",
            "13  4.134619\n",
            "14  2.195406\n",
            "15  3.306249\n",
            "16  2.445751\n",
            "17  1.983495\n",
            "18  3.590079\n",
            "19  1.200559\n",
            "20  2.029297\n",
            "21  1.383496\n",
            "22  2.559992\n",
            "23  4.908754\n",
            "24  3.299265\n",
            "25  2.399522\n",
            "26  4.582539\n",
            "27  2.779620\n",
            "28  3.043759\n",
            "29  3.457950\n",
            "30  3.209007\n",
            "31  2.263029\n",
            "32  2.718337\n",
            "33  2.359564\n",
            "34  3.692640\n",
            "35  2.099780\n",
            "36  0.651784\n",
            "37  1.726604\n",
            "38  3.192781\n",
            "39  3.957758\n",
            "\n",
            "\n",
            "Shapiro-Wilk Test Statistic: 0.983\n",
            "p-value: 0.7949913973309048\n",
            "Sample looks Gaussian (fail to reject H0)\n"
          ]
        }
      ],
      "source": [
        "import numpy as np\n",
        "import pandas as pd\n",
        "import seaborn as sns\n",
        "from scipy.stats import shapiro\n",
        "\n",
        "data1_gaussian = np.random.normal(loc=3, scale=1, size=40)\n",
        "df1 = pd.DataFrame(data1_gaussian, columns=['시간(단위:분)'])\n",
        "df1.to_csv('gender_time.csv', index=True)\n",
        "print('Full set of data points for Gaussian data:')\n",
        "print(df1)\n",
        "print('\\n')\n",
        "\n",
        "\n",
        "statistic, p_value = shapiro(data1_gaussian)\n",
        "statistic = round(statistic, 3)\n",
        "\n",
        "print(\"Shapiro-Wilk Test Statistic:\", statistic)\n",
        "print(\"p-value:\", p_value)\n",
        "\n",
        "alpha = 0.05\n",
        "if p_value > alpha:\n",
        "    print(\"Sample looks Gaussian (fail to reject H0)\")\n",
        "else:\n",
        "    print(\"Sample does not look Gaussian (reject H0)\")"
      ]
    },
    {
      "cell_type": "code",
      "source": [
        "import pandas as pd\n",
        "from scipy.stats import ttest_ind\n",
        "\n",
        "data = pd.read_csv('/content/Gender.csv')\n",
        "\n",
        "group_female = data[data['Gender'] == '여성']['시간(단위:분)']\n",
        "group_male = data[data['Gender'] == '남성']['시간(단위:분)']\n",
        "\n",
        "t_statistic, p_value = ttest_ind(group_female, group_male)\n",
        "\n",
        "print(\"귀무가설(H0): 남성과 여성의 평균 준비시간에는 차이가 없다.\")\n",
        "print(f\"t-statistic: {t_statistic}\")\n",
        "print(f\"p-value: {p_value}\")\n",
        "\n",
        "alpha = 0.05\n",
        "if p_value < alpha:\n",
        "    print(\"해석: 두 그룹 간 평균 준비시간에 차이가 있다. (귀무가설 기각, p < 0.05)\")\n",
        "else:\n",
        "    print(\"해석: 두 그룹 간 평균 준비시간에 차이가 없다. (귀무가설 채택, p ≥ 0.05)\")\n"
      ],
      "metadata": {
        "colab": {
          "base_uri": "https://localhost:8080/"
        },
        "id": "-FpL1FarfBLU",
        "outputId": "a0867ebf-fd98-41a1-86da-622d420a46e2"
      },
      "execution_count": null,
      "outputs": [
        {
          "output_type": "stream",
          "name": "stdout",
          "text": [
            "귀무가설(H0): 남성과 여성의 평균 준비시간에는 차이가 없다.\n",
            "t-statistic: 2.6171511705440804\n",
            "p-value: 0.012657117202744884\n",
            "해석: 두 그룹 간 평균 준비시간에 차이가 있다. (귀무가설 기각, p < 0.05)\n"
          ]
        }
      ]
    },
    {
      "cell_type": "code",
      "source": [],
      "metadata": {
        "id": "pOpJVrKOhLfd"
      },
      "execution_count": null,
      "outputs": []
    }
  ]
}